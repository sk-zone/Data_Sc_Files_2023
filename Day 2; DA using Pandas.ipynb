{
 "cells": [
  {
   "cell_type": "markdown",
   "id": "73bee34c",
   "metadata": {},
   "source": [
    "# Pandas: DataFrames, Merging, Joining etc."
   ]
  },
  {
   "cell_type": "code",
   "execution_count": 1,
   "id": "9c487e3d",
   "metadata": {},
   "outputs": [],
   "source": [
    "import numpy as np\n",
    "import pandas as pd"
   ]
  },
  {
   "cell_type": "code",
   "execution_count": 2,
   "id": "327f3214",
   "metadata": {},
   "outputs": [
    {
     "data": {
      "text/plain": [
       "0    Afghanistan\n",
       "1     Bangladesh\n",
       "2         Canada\n",
       "3        Denmark\n",
       "dtype: object"
      ]
     },
     "execution_count": 2,
     "metadata": {},
     "output_type": "execute_result"
    }
   ],
   "source": [
    "labels = ['a', 'b', 'c', 'd']\n",
    "mydata = ['Afghanistan', 'Bangladesh', 'Canada', 'Denmark']\n",
    "pd.Series(data = mydata)\n"
   ]
  },
  {
   "cell_type": "code",
   "execution_count": 3,
   "id": "3693135e",
   "metadata": {},
   "outputs": [],
   "source": [
    "arr = np.array(mydata)"
   ]
  },
  {
   "cell_type": "code",
   "execution_count": 4,
   "id": "b1b8ec38",
   "metadata": {},
   "outputs": [
    {
     "data": {
      "text/plain": [
       "array(['Afghanistan', 'Bangladesh', 'Canada', 'Denmark'], dtype='<U11')"
      ]
     },
     "execution_count": 4,
     "metadata": {},
     "output_type": "execute_result"
    }
   ],
   "source": [
    "arr"
   ]
  },
  {
   "cell_type": "code",
   "execution_count": null,
   "id": "1b7714b7",
   "metadata": {},
   "outputs": [],
   "source": []
  },
  {
   "cell_type": "code",
   "execution_count": 5,
   "id": "f2d6967e",
   "metadata": {},
   "outputs": [],
   "source": [
    "from numpy.random import randn"
   ]
  },
  {
   "cell_type": "code",
   "execution_count": null,
   "id": "e2c95e32",
   "metadata": {},
   "outputs": [],
   "source": [
    "np.random.Seed(105)"
   ]
  },
  {
   "cell_type": "code",
   "execution_count": 6,
   "id": "1b0d6181",
   "metadata": {},
   "outputs": [],
   "source": [
    "frame_data = pd.DataFrame(randn(4,3), ['A', 'B', 'C', 'D'], [1, 2, 3])"
   ]
  },
  {
   "cell_type": "code",
   "execution_count": 7,
   "id": "54349c5f",
   "metadata": {},
   "outputs": [
    {
     "data": {
      "text/html": [
       "<div>\n",
       "<style scoped>\n",
       "    .dataframe tbody tr th:only-of-type {\n",
       "        vertical-align: middle;\n",
       "    }\n",
       "\n",
       "    .dataframe tbody tr th {\n",
       "        vertical-align: top;\n",
       "    }\n",
       "\n",
       "    .dataframe thead th {\n",
       "        text-align: right;\n",
       "    }\n",
       "</style>\n",
       "<table border=\"1\" class=\"dataframe\">\n",
       "  <thead>\n",
       "    <tr style=\"text-align: right;\">\n",
       "      <th></th>\n",
       "      <th>1</th>\n",
       "      <th>2</th>\n",
       "      <th>3</th>\n",
       "    </tr>\n",
       "  </thead>\n",
       "  <tbody>\n",
       "    <tr>\n",
       "      <th>A</th>\n",
       "      <td>-0.035033</td>\n",
       "      <td>0.295789</td>\n",
       "      <td>1.619274</td>\n",
       "    </tr>\n",
       "    <tr>\n",
       "      <th>B</th>\n",
       "      <td>-0.416494</td>\n",
       "      <td>-1.274346</td>\n",
       "      <td>-1.081964</td>\n",
       "    </tr>\n",
       "    <tr>\n",
       "      <th>C</th>\n",
       "      <td>-1.192860</td>\n",
       "      <td>0.165460</td>\n",
       "      <td>1.320148</td>\n",
       "    </tr>\n",
       "    <tr>\n",
       "      <th>D</th>\n",
       "      <td>0.720361</td>\n",
       "      <td>1.266808</td>\n",
       "      <td>-0.053611</td>\n",
       "    </tr>\n",
       "  </tbody>\n",
       "</table>\n",
       "</div>"
      ],
      "text/plain": [
       "          1         2         3\n",
       "A -0.035033  0.295789  1.619274\n",
       "B -0.416494 -1.274346 -1.081964\n",
       "C -1.192860  0.165460  1.320148\n",
       "D  0.720361  1.266808 -0.053611"
      ]
     },
     "execution_count": 7,
     "metadata": {},
     "output_type": "execute_result"
    }
   ],
   "source": [
    "frame_data"
   ]
  },
  {
   "cell_type": "code",
   "execution_count": null,
   "id": "8f9947ba",
   "metadata": {},
   "outputs": [],
   "source": []
  }
 ],
 "metadata": {
  "kernelspec": {
   "display_name": "Python 3 (ipykernel)",
   "language": "python",
   "name": "python3"
  },
  "language_info": {
   "codemirror_mode": {
    "name": "ipython",
    "version": 3
   },
   "file_extension": ".py",
   "mimetype": "text/x-python",
   "name": "python",
   "nbconvert_exporter": "python",
   "pygments_lexer": "ipython3",
   "version": "3.9.13"
  }
 },
 "nbformat": 4,
 "nbformat_minor": 5
}
